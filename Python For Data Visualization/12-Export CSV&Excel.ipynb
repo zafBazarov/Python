{
 "cells": [
  {
   "cell_type": "markdown",
   "metadata": {},
   "source": [
    "## Export Pandas DataFrames to csv and excel files \n",
    "\n",
    "In Pandas, you can export your DataFrame to a CSV file by using the to_CSV method. \n",
    "\n"
   ]
  },
  {
   "cell_type": "code",
   "execution_count": null,
   "metadata": {},
   "outputs": [],
   "source": [
    "# Import libraries\n",
    "import pandas as pd\n",
    "import numpy as np"
   ]
  },
  {
   "cell_type": "code",
   "execution_count": null,
   "metadata": {},
   "outputs": [],
   "source": [
    "# Load Excel File\n",
    "filename = 'car_financing_missing.xlsx'\n",
    "df = pd.read_excel(filename)"
   ]
  },
  {
   "cell_type": "markdown",
   "metadata": {},
   "source": [
    "In this case, I have a relative path where inside my current working directory, there's a folder called data, and inside that folder is where I'm exporting the CSV file. The parameter index equals false, just means I don't want to export the Pandas DataFrames indexes. \n"
   ]
  },
  {
   "cell_type": "code",
   "execution_count": null,
   "metadata": {},
   "outputs": [],
   "source": [
    "# Export DataFrame to csv File\n",
    "df.to_csv(path_or_buf='data/table_i702t60.csv',\n",
    "          index = False)"
   ]
  },
  {
   "cell_type": "markdown",
   "metadata": {},
   "source": [
    "You can export your DataFrame to an Excel file by using the to_Excel method. And in this case, I have a relative path where inside my current directory, there's a folder called data, and then inside that folder is where I'm writing the Excel SX file. The index equals false parameter, just means I don't want to have the indexes from my DataFrame export to the file. \n"
   ]
  },
  {
   "cell_type": "code",
   "execution_count": null,
   "metadata": {},
   "outputs": [],
   "source": [
    "# Export DataFrame to excel File\n",
    "df.to_excel(excel_writer='data/table_i702t60.xlsx',\n",
    "            index=False)"
   ]
  },
  {
   "cell_type": "markdown",
   "metadata": {},
   "source": [
    "And keep in mind, if you ever don't know what a method does, you can always look them up using the help command. In this case, I'm looking up the to_CSV method. \n"
   ]
  },
  {
   "cell_type": "code",
   "execution_count": null,
   "metadata": {},
   "outputs": [],
   "source": [
    "# Keep in mind that if you dont know a methods parameters,\n",
    "# you can look them up using the help command. \n",
    "help(df.to_csv)"
   ]
  },
  {
   "cell_type": "markdown",
   "metadata": {},
   "source": [
    "It is also good idea to check your exported files."
   ]
  }
 ],
 "metadata": {
  "anaconda-cloud": {},
  "kernelspec": {
   "display_name": "Python 3 (ipykernel)",
   "language": "python",
   "name": "python3"
  },
  "language_info": {
   "codemirror_mode": {
    "name": "ipython",
    "version": 3
   },
   "file_extension": ".py",
   "mimetype": "text/x-python",
   "name": "python",
   "nbconvert_exporter": "python",
   "pygments_lexer": "ipython3",
   "version": "3.9.7"
  }
 },
 "nbformat": 4,
 "nbformat_minor": 1
}
