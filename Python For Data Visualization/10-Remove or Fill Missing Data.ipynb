{
 "cells": [
  {
   "cell_type": "markdown",
   "metadata": {},
   "source": [
    "## Removing or Filling in Missing Data\n",
    "This is an important subject as before you can graph data, you should make sure you aren't trying to graph some missing values as that can cause an error or misinterpretation of the data."
   ]
  },
  {
   "cell_type": "code",
   "execution_count": 2,
   "metadata": {},
   "outputs": [],
   "source": [
    "# Import libraries\n",
    "import pandas as pd\n",
    "import numpy as np"
   ]
  },
  {
   "cell_type": "code",
   "execution_count": 3,
   "metadata": {},
   "outputs": [],
   "source": [
    "# Load Excel File\n",
    "filename = 'car_financing_filter.xlsx'\n",
    "df = pd.read_excel(filename)"
   ]
  },
  {
   "cell_type": "markdown",
   "metadata": {},
   "source": [
    "We're working with the car loan dataset and the first thing we're going to do is we're going to utilize the info method. And what the info method does is it shows us how many missing values we have in each of our columns. \n",
    "And as you see, we have 60 non-null values for every column except for the interest paid column. This means that we have one null value. "
   ]
  },
  {
   "cell_type": "code",
   "execution_count": 4,
   "metadata": {},
   "outputs": [
    {
     "name": "stdout",
     "output_type": "stream",
     "text": [
      "<class 'pandas.core.frame.DataFrame'>\n",
      "RangeIndex: 60 entries, 0 to 59\n",
      "Data columns (total 7 columns):\n",
      " #   Column            Non-Null Count  Dtype  \n",
      "---  ------            --------------  -----  \n",
      " 0   month             60 non-null     int64  \n",
      " 1   starting_balance  60 non-null     float64\n",
      " 2   interest_paid     59 non-null     float64\n",
      " 3   principal_paid    60 non-null     float64\n",
      " 4   new_balance       60 non-null     float64\n",
      " 5   interest_rate     60 non-null     float64\n",
      " 6   car_type          60 non-null     object \n",
      "dtypes: float64(5), int64(1), object(1)\n",
      "memory usage: 3.4+ KB\n"
     ]
    }
   ],
   "source": [
    "df.info()"
   ]
  },
  {
   "cell_type": "markdown",
   "metadata": {},
   "source": [
    "### *Remove Missing Values*\n",
    "\n",
    "There are a couple different ways to deal with missing data. The first way is simply to remove the missing values. And in pandas you can remove the missing values by using the drop NA method. And what the code here does is I have a pandas data frame from index 30 up until, but not including index 40, and I'm dropping the rows where I have any NAN values. And as you see here, I don't have a row at index 35 because I had a NAN value here. \n",
    "\n",
    "You can remove missing values by using the `dropna` method. "
   ]
  },
  {
   "cell_type": "code",
   "execution_count": 5,
   "metadata": {
    "scrolled": true
   },
   "outputs": [
    {
     "data": {
      "text/html": [
       "<div>\n",
       "<style scoped>\n",
       "    .dataframe tbody tr th:only-of-type {\n",
       "        vertical-align: middle;\n",
       "    }\n",
       "\n",
       "    .dataframe tbody tr th {\n",
       "        vertical-align: top;\n",
       "    }\n",
       "\n",
       "    .dataframe thead th {\n",
       "        text-align: right;\n",
       "    }\n",
       "</style>\n",
       "<table border=\"1\" class=\"dataframe\">\n",
       "  <thead>\n",
       "    <tr style=\"text-align: right;\">\n",
       "      <th></th>\n",
       "      <th>month</th>\n",
       "      <th>starting_balance</th>\n",
       "      <th>interest_paid</th>\n",
       "      <th>principal_paid</th>\n",
       "      <th>new_balance</th>\n",
       "      <th>interest_rate</th>\n",
       "      <th>car_type</th>\n",
       "    </tr>\n",
       "  </thead>\n",
       "  <tbody>\n",
       "    <tr>\n",
       "      <th>30</th>\n",
       "      <td>31</td>\n",
       "      <td>18858.57</td>\n",
       "      <td>110.32</td>\n",
       "      <td>576.91</td>\n",
       "      <td>18281.66</td>\n",
       "      <td>0.0702</td>\n",
       "      <td>Toyota Sienna</td>\n",
       "    </tr>\n",
       "    <tr>\n",
       "      <th>31</th>\n",
       "      <td>32</td>\n",
       "      <td>18281.66</td>\n",
       "      <td>106.94</td>\n",
       "      <td>580.29</td>\n",
       "      <td>17701.37</td>\n",
       "      <td>0.0702</td>\n",
       "      <td>Toyota Sienna</td>\n",
       "    </tr>\n",
       "    <tr>\n",
       "      <th>32</th>\n",
       "      <td>33</td>\n",
       "      <td>17701.37</td>\n",
       "      <td>103.55</td>\n",
       "      <td>583.68</td>\n",
       "      <td>17117.69</td>\n",
       "      <td>0.0702</td>\n",
       "      <td>Toyota Sienna</td>\n",
       "    </tr>\n",
       "    <tr>\n",
       "      <th>33</th>\n",
       "      <td>34</td>\n",
       "      <td>17117.69</td>\n",
       "      <td>100.13</td>\n",
       "      <td>587.10</td>\n",
       "      <td>16530.59</td>\n",
       "      <td>0.0702</td>\n",
       "      <td>Toyota Sienna</td>\n",
       "    </tr>\n",
       "    <tr>\n",
       "      <th>34</th>\n",
       "      <td>35</td>\n",
       "      <td>16530.59</td>\n",
       "      <td>96.70</td>\n",
       "      <td>590.53</td>\n",
       "      <td>15940.06</td>\n",
       "      <td>0.0702</td>\n",
       "      <td>Toyota Sienna</td>\n",
       "    </tr>\n",
       "    <tr>\n",
       "      <th>36</th>\n",
       "      <td>37</td>\n",
       "      <td>15346.07</td>\n",
       "      <td>89.77</td>\n",
       "      <td>597.46</td>\n",
       "      <td>14748.61</td>\n",
       "      <td>0.0702</td>\n",
       "      <td>Toyota Sienna</td>\n",
       "    </tr>\n",
       "    <tr>\n",
       "      <th>37</th>\n",
       "      <td>38</td>\n",
       "      <td>14748.61</td>\n",
       "      <td>86.27</td>\n",
       "      <td>600.96</td>\n",
       "      <td>14147.65</td>\n",
       "      <td>0.0702</td>\n",
       "      <td>Toyota Sienna</td>\n",
       "    </tr>\n",
       "    <tr>\n",
       "      <th>38</th>\n",
       "      <td>39</td>\n",
       "      <td>14147.65</td>\n",
       "      <td>82.76</td>\n",
       "      <td>604.47</td>\n",
       "      <td>13543.18</td>\n",
       "      <td>0.0702</td>\n",
       "      <td>Toyota Sienna</td>\n",
       "    </tr>\n",
       "    <tr>\n",
       "      <th>39</th>\n",
       "      <td>40</td>\n",
       "      <td>13543.18</td>\n",
       "      <td>79.22</td>\n",
       "      <td>608.01</td>\n",
       "      <td>12935.17</td>\n",
       "      <td>0.0702</td>\n",
       "      <td>Toyota Sienna</td>\n",
       "    </tr>\n",
       "  </tbody>\n",
       "</table>\n",
       "</div>"
      ],
      "text/plain": [
       "    month  starting_balance  interest_paid  principal_paid  new_balance  \\\n",
       "30     31          18858.57         110.32          576.91     18281.66   \n",
       "31     32          18281.66         106.94          580.29     17701.37   \n",
       "32     33          17701.37         103.55          583.68     17117.69   \n",
       "33     34          17117.69         100.13          587.10     16530.59   \n",
       "34     35          16530.59          96.70          590.53     15940.06   \n",
       "36     37          15346.07          89.77          597.46     14748.61   \n",
       "37     38          14748.61          86.27          600.96     14147.65   \n",
       "38     39          14147.65          82.76          604.47     13543.18   \n",
       "39     40          13543.18          79.22          608.01     12935.17   \n",
       "\n",
       "    interest_rate       car_type  \n",
       "30         0.0702  Toyota Sienna  \n",
       "31         0.0702  Toyota Sienna  \n",
       "32         0.0702  Toyota Sienna  \n",
       "33         0.0702  Toyota Sienna  \n",
       "34         0.0702  Toyota Sienna  \n",
       "36         0.0702  Toyota Sienna  \n",
       "37         0.0702  Toyota Sienna  \n",
       "38         0.0702  Toyota Sienna  \n",
       "39         0.0702  Toyota Sienna  "
      ]
     },
     "execution_count": 5,
     "metadata": {},
     "output_type": "execute_result"
    }
   ],
   "source": [
    "# You can drop entire rows if they contain 'any' nans in them or 'all'\n",
    "# this may not be the best strategy for our dataset\n",
    "df[30:40].dropna(how = 'any')"
   ]
  },
  {
   "cell_type": "markdown",
   "metadata": {},
   "source": [
    "### Filling in Missing Values\n",
    "There are a [variety of ways to fill in missing values](https://pandas.pydata.org/pandas-docs/stable/user_guide/missing_data.html). "
   ]
  },
  {
   "cell_type": "markdown",
   "metadata": {},
   "source": [
    "The first thing we're going to do is we're going to look at where the missing data is located by using a pandas series and then slicing it to look at indexes 30 up until, but not including index 40. As you see here, I have a NAN at index 35. \n"
   ]
  },
  {
   "cell_type": "code",
   "execution_count": 6,
   "metadata": {},
   "outputs": [
    {
     "data": {
      "text/plain": [
       "30    110.32\n",
       "31    106.94\n",
       "32    103.55\n",
       "33    100.13\n",
       "34     96.70\n",
       "35       NaN\n",
       "36     89.77\n",
       "37     86.27\n",
       "38     82.76\n",
       "39     79.22\n",
       "Name: interest_paid, dtype: float64"
      ]
     },
     "execution_count": 6,
     "metadata": {},
     "output_type": "execute_result"
    }
   ],
   "source": [
    "# Looking at where missing data is located\n",
    "df['interest_paid'][30:40]"
   ]
  },
  {
   "cell_type": "markdown",
   "metadata": {},
   "source": [
    "The first thing we're going to try is we're going to try to fill the NAN with a zero by using the fill NA method. The reason why filling in a NAN with a zero is often not a good idea, is originally the NAN could have been something else. A zero could help you misinterpret the data. It's just one option. \n"
   ]
  },
  {
   "cell_type": "code",
   "execution_count": 7,
   "metadata": {},
   "outputs": [
    {
     "data": {
      "text/plain": [
       "30    110.32\n",
       "31    106.94\n",
       "32    103.55\n",
       "33    100.13\n",
       "34     96.70\n",
       "35      0.00\n",
       "36     89.77\n",
       "37     86.27\n",
       "38     82.76\n",
       "39     79.22\n",
       "Name: interest_paid, dtype: float64"
      ]
     },
     "execution_count": 7,
     "metadata": {},
     "output_type": "execute_result"
    }
   ],
   "source": [
    "# Filling in the nan with a zero is probably a bad idea. \n",
    "df['interest_paid'][30:40].fillna(0)"
   ]
  },
  {
   "cell_type": "markdown",
   "metadata": {},
   "source": [
    "**backfill**\n",
    "\n",
    "The other method we could use is to fill in with a ``backfill``. And the way this works is perhaps better to show you. Where at Index 35, before I had a zero or a NAN, now I have an 89.77. This is because the index after it was an 89.77. This is very commonly done with ***time series data*** when you have a missing value. \n"
   ]
  },
  {
   "cell_type": "code",
   "execution_count": 8,
   "metadata": {},
   "outputs": [
    {
     "name": "stderr",
     "output_type": "stream",
     "text": [
      "C:\\Users\\zafar\\AppData\\Local\\Temp\\ipykernel_31616\\2279660771.py:2: FutureWarning: Series.fillna with 'method' is deprecated and will raise in a future version. Use obj.ffill() or obj.bfill() instead.\n",
      "  df['interest_paid'][30:40].fillna(method='bfill')\n"
     ]
    },
    {
     "data": {
      "text/plain": [
       "30    110.32\n",
       "31    106.94\n",
       "32    103.55\n",
       "33    100.13\n",
       "34     96.70\n",
       "35     89.77\n",
       "36     89.77\n",
       "37     86.27\n",
       "38     82.76\n",
       "39     79.22\n",
       "Name: interest_paid, dtype: float64"
      ]
     },
     "execution_count": 8,
     "metadata": {},
     "output_type": "execute_result"
    }
   ],
   "source": [
    "# back fill in value\n",
    "df['interest_paid'][30:40].fillna(method='bfill')"
   ]
  },
  {
   "cell_type": "markdown",
   "metadata": {},
   "source": [
    "***forward fill***\n",
    "\n",
    "Another way is to ***forward fill*** in your value. And this is also done with ***time series data***. \n"
   ]
  },
  {
   "cell_type": "code",
   "execution_count": 9,
   "metadata": {},
   "outputs": [
    {
     "name": "stderr",
     "output_type": "stream",
     "text": [
      "C:\\Users\\zafar\\AppData\\Local\\Temp\\ipykernel_31616\\3472784216.py:2: FutureWarning: Series.fillna with 'method' is deprecated and will raise in a future version. Use obj.ffill() or obj.bfill() instead.\n",
      "  df['interest_paid'][30:40].fillna(method='ffill')\n"
     ]
    },
    {
     "data": {
      "text/plain": [
       "30    110.32\n",
       "31    106.94\n",
       "32    103.55\n",
       "33    100.13\n",
       "34     96.70\n",
       "35     96.70\n",
       "36     89.77\n",
       "37     86.27\n",
       "38     82.76\n",
       "39     79.22\n",
       "Name: interest_paid, dtype: float64"
      ]
     },
     "execution_count": 9,
     "metadata": {},
     "output_type": "execute_result"
    }
   ],
   "source": [
    "# forward fill in value\n",
    "df['interest_paid'][30:40].fillna(method='ffill')"
   ]
  },
  {
   "cell_type": "markdown",
   "metadata": {},
   "source": [
    "``The difference between backfill and forward fill is backfill takes the value after the missing value and inserts it at the value that's missing. ``\n",
    "\n",
    "``And what forward fill does is it takes the value before the missing value and inserts it where the missing value is. ``\n",
    "\n",
    "***The reason why you use one versus the other is really dependent on your domain knowledge and your application. This is also a current area of research. It's called data imputation. ***\n"
   ]
  },
  {
   "cell_type": "markdown",
   "metadata": {},
   "source": [
    "***linear interpolation***\n",
    "\n",
    "Another way to fill in missing values is through ***linear interpolation***. And what this does is it uses a linear model to fill in the missing value. And as you see here, this 93 is between the 96 and the 89. \n"
   ]
  },
  {
   "cell_type": "code",
   "execution_count": 10,
   "metadata": {},
   "outputs": [
    {
     "data": {
      "text/plain": [
       "30    110.320\n",
       "31    106.940\n",
       "32    103.550\n",
       "33    100.130\n",
       "34     96.700\n",
       "35     93.235\n",
       "36     89.770\n",
       "37     86.270\n",
       "38     82.760\n",
       "39     79.220\n",
       "Name: interest_paid, dtype: float64"
      ]
     },
     "execution_count": 10,
     "metadata": {},
     "output_type": "execute_result"
    }
   ],
   "source": [
    "# linear interpolation (filling in of values)\n",
    "df['interest_paid'][30:40].interpolate(method = 'linear')"
   ]
  },
  {
   "cell_type": "markdown",
   "metadata": {},
   "source": [
    "What the code here is doing is I'm finding the total interest paid over the course of a loan by using the sum method. And I should note, the sum method doesn't account for NANs. And as you see here, this is the total amount of money paid toward interest over the course of a loan. It's important to keep in mind that the sum method by default ignores NANs. So after we fill in the NAN value with a real value, this might change. \n"
   ]
  },
  {
   "cell_type": "code",
   "execution_count": 11,
   "metadata": {},
   "outputs": [
    {
     "data": {
      "text/plain": [
       "np.float64(6450.2699999999995)"
      ]
     },
     "execution_count": 11,
     "metadata": {},
     "output_type": "execute_result"
    }
   ],
   "source": [
    "# Interest paid before filling in the nan with a value\n",
    "df['interest_paid'].sum()"
   ]
  },
  {
   "cell_type": "markdown",
   "metadata": {},
   "source": [
    "What the code here is doing is this is producing a Boolean array of true and false values where I'll have a true value where I have a NAN and a false value where I don't, and I'm assigning it to the variable interest_missing. From there, I'm utilizing the LOC operator and filling in that missing N value with the value 93.24. \n"
   ]
  },
  {
   "cell_type": "code",
   "execution_count": 13,
   "metadata": {},
   "outputs": [],
   "source": [
    "# Fill in with the actual value\n",
    "interest_missing = df['interest_paid'].isna()\n",
    "df.loc[interest_missing,'interest_paid'] = 93.24"
   ]
  },
  {
   "cell_type": "markdown",
   "metadata": {},
   "source": [
    "Now, when I sum over the entire column, I'll get a different number. This is perhaps more accurate, and I should note the value of removing or filling in your data is that oftentimes you get more accurate calculations. \n"
   ]
  },
  {
   "cell_type": "code",
   "execution_count": 14,
   "metadata": {},
   "outputs": [
    {
     "data": {
      "text/plain": [
       "np.float64(6543.509999999999)"
      ]
     },
     "execution_count": 14,
     "metadata": {},
     "output_type": "execute_result"
    }
   ],
   "source": [
    "# Interest paid after filling in the nan with a value\n",
    "df['interest_paid'].sum()"
   ]
  },
  {
   "cell_type": "markdown",
   "metadata": {},
   "source": [
    "In this case, the reason why I filled in the value with 93.24 is because I knew what the actual value should have been. This is due to my domain knowledge of loans. For whatever application you're working with, it's often best to try to get the most accurate value to fill in for your missing values. \n",
    "\n",
    "And as you can see here, we don't have NAN values in the data frame anymore. \n"
   ]
  },
  {
   "cell_type": "code",
   "execution_count": 15,
   "metadata": {},
   "outputs": [
    {
     "name": "stdout",
     "output_type": "stream",
     "text": [
      "<class 'pandas.core.frame.DataFrame'>\n",
      "RangeIndex: 60 entries, 0 to 59\n",
      "Data columns (total 7 columns):\n",
      " #   Column            Non-Null Count  Dtype  \n",
      "---  ------            --------------  -----  \n",
      " 0   month             60 non-null     int64  \n",
      " 1   starting_balance  60 non-null     float64\n",
      " 2   interest_paid     60 non-null     float64\n",
      " 3   principal_paid    60 non-null     float64\n",
      " 4   new_balance       60 non-null     float64\n",
      " 5   interest_rate     60 non-null     float64\n",
      " 6   car_type          60 non-null     object \n",
      "dtypes: float64(5), int64(1), object(1)\n",
      "memory usage: 3.4+ KB\n"
     ]
    }
   ],
   "source": [
    "# Notice we dont have NaN values in the DataFrame anymore\n",
    "df.info()"
   ]
  },
  {
   "cell_type": "markdown",
   "metadata": {},
   "source": [
    "Once you've identified your missing values, removing them or filling them in often gives you more accurate calculations and makes the results more interpretable.\n"
   ]
  },
  {
   "cell_type": "code",
   "execution_count": 16,
   "metadata": {},
   "outputs": [],
   "source": [
    "df.to_excel('car_financing_misssing.xlsx', index=False)"
   ]
  }
 ],
 "metadata": {
  "anaconda-cloud": {},
  "kernelspec": {
   "display_name": "Python 3",
   "language": "python",
   "name": "python3"
  },
  "language_info": {
   "codemirror_mode": {
    "name": "ipython",
    "version": 3
   },
   "file_extension": ".py",
   "mimetype": "text/x-python",
   "name": "python",
   "nbconvert_exporter": "python",
   "pygments_lexer": "ipython3",
   "version": "3.13.1"
  }
 },
 "nbformat": 4,
 "nbformat_minor": 1
}
