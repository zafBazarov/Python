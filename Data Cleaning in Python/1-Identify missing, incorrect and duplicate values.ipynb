{
 "cells": [
  {
   "cell_type": "markdown",
   "metadata": {},
   "source": [
    "# <center> 1. Identify missing, incorrect and duplicate values"
   ]
  },
  {
   "cell_type": "code",
   "execution_count": 3,
   "metadata": {},
   "outputs": [],
   "source": [
    "# library \n",
    "import pandas as pd"
   ]
  },
  {
   "cell_type": "markdown",
   "metadata": {},
   "source": [
    "**1.1. Missing values**"
   ]
  },
  {
   "cell_type": "code",
   "execution_count": 4,
   "metadata": {},
   "outputs": [
    {
     "name": "stdout",
     "output_type": "stream",
     "text": [
      "        date    name  amount  price\n",
      "0 2021-03-01  carrot     7.0   5.73\n",
      "1 2021-03-01     egg    12.0   1.70\n",
      "2 2021-03-01    milk     NaN   3.57\n",
      "3 2021-03-01  potato     2.0    NaN\n",
      "4        NaT  tomato     6.0   1.52\n",
      "5 2021-03-02  potato     3.0   2.17\n",
      "6 2021-03-03     NaN     5.0   3.68\n"
     ]
    }
   ],
   "source": [
    "#import dataset\n",
    "\n",
    "df=pd.read_csv('cart.csv', parse_dates=['date'])\n",
    "print(df)"
   ]
  },
  {
   "cell_type": "code",
   "execution_count": 3,
   "metadata": {},
   "outputs": [
    {
     "name": "stdout",
     "output_type": "stream",
     "text": [
      "date      datetime64[ns]\n",
      "name              object\n",
      "amount           float64\n",
      "price            float64\n",
      "dtype: object\n"
     ]
    }
   ],
   "source": [
    "# we can check the data type of each column\n",
    "print(df.dtypes)"
   ]
  },
  {
   "cell_type": "code",
   "execution_count": 4,
   "metadata": {},
   "outputs": [
    {
     "data": {
      "text/plain": [
       "0       7\n",
       "1      12\n",
       "2    <NA>\n",
       "3       2\n",
       "4       6\n",
       "5       3\n",
       "6       5\n",
       "Name: amount, dtype: Int32"
      ]
     },
     "execution_count": 4,
     "metadata": {},
     "output_type": "execute_result"
    }
   ],
   "source": [
    "# we need to convert the amount column to integer\n",
    "df['amount'].astype('Int32')"
   ]
  },
  {
   "cell_type": "code",
   "execution_count": 5,
   "metadata": {},
   "outputs": [
    {
     "data": {
      "text/html": [
       "<div>\n",
       "<style scoped>\n",
       "    .dataframe tbody tr th:only-of-type {\n",
       "        vertical-align: middle;\n",
       "    }\n",
       "\n",
       "    .dataframe tbody tr th {\n",
       "        vertical-align: top;\n",
       "    }\n",
       "\n",
       "    .dataframe thead th {\n",
       "        text-align: right;\n",
       "    }\n",
       "</style>\n",
       "<table border=\"1\" class=\"dataframe\">\n",
       "  <thead>\n",
       "    <tr style=\"text-align: right;\">\n",
       "      <th></th>\n",
       "      <th>date</th>\n",
       "      <th>name</th>\n",
       "      <th>amount</th>\n",
       "      <th>price</th>\n",
       "    </tr>\n",
       "  </thead>\n",
       "  <tbody>\n",
       "    <tr>\n",
       "      <th>0</th>\n",
       "      <td>False</td>\n",
       "      <td>False</td>\n",
       "      <td>False</td>\n",
       "      <td>False</td>\n",
       "    </tr>\n",
       "    <tr>\n",
       "      <th>1</th>\n",
       "      <td>False</td>\n",
       "      <td>False</td>\n",
       "      <td>False</td>\n",
       "      <td>False</td>\n",
       "    </tr>\n",
       "    <tr>\n",
       "      <th>2</th>\n",
       "      <td>False</td>\n",
       "      <td>False</td>\n",
       "      <td>True</td>\n",
       "      <td>False</td>\n",
       "    </tr>\n",
       "    <tr>\n",
       "      <th>3</th>\n",
       "      <td>False</td>\n",
       "      <td>False</td>\n",
       "      <td>False</td>\n",
       "      <td>True</td>\n",
       "    </tr>\n",
       "    <tr>\n",
       "      <th>4</th>\n",
       "      <td>True</td>\n",
       "      <td>False</td>\n",
       "      <td>False</td>\n",
       "      <td>False</td>\n",
       "    </tr>\n",
       "    <tr>\n",
       "      <th>5</th>\n",
       "      <td>False</td>\n",
       "      <td>False</td>\n",
       "      <td>False</td>\n",
       "      <td>False</td>\n",
       "    </tr>\n",
       "    <tr>\n",
       "      <th>6</th>\n",
       "      <td>False</td>\n",
       "      <td>True</td>\n",
       "      <td>False</td>\n",
       "      <td>False</td>\n",
       "    </tr>\n",
       "  </tbody>\n",
       "</table>\n",
       "</div>"
      ],
      "text/plain": [
       "    date   name  amount  price\n",
       "0  False  False   False  False\n",
       "1  False  False   False  False\n",
       "2  False  False    True  False\n",
       "3  False  False   False   True\n",
       "4   True  False   False  False\n",
       "5  False  False   False  False\n",
       "6  False   True   False  False"
      ]
     },
     "execution_count": 5,
     "metadata": {},
     "output_type": "execute_result"
    }
   ],
   "source": [
    "# find missing values\n",
    "df.isnull()"
   ]
  },
  {
   "cell_type": "code",
   "execution_count": null,
   "metadata": {},
   "outputs": [
    {
     "data": {
      "text/plain": [
       "date      1\n",
       "name      1\n",
       "amount    1\n",
       "price     1\n",
       "dtype: int64"
      ]
     },
     "execution_count": 6,
     "metadata": {},
     "output_type": "execute_result"
    }
   ],
   "source": [
    "# we can also sum the missing values\n",
    "df.isnull().sum()"
   ]
  },
  {
   "cell_type": "code",
   "execution_count": null,
   "metadata": {},
   "outputs": [
    {
     "data": {
      "text/plain": [
       "0    False\n",
       "1    False\n",
       "2     True\n",
       "3     True\n",
       "4     True\n",
       "5    False\n",
       "6     True\n",
       "dtype: bool"
      ]
     },
     "execution_count": 5,
     "metadata": {},
     "output_type": "execute_result"
    }
   ],
   "source": [
    "# shows the rows with missing values\n",
    "df.isnull().any(axis=1)"
   ]
  },
  {
   "cell_type": "markdown",
   "metadata": {},
   "source": [
    "**1.2. Incorrect or Bad values**"
   ]
  },
  {
   "cell_type": "markdown",
   "metadata": {},
   "source": [
    "It can be out of scale values such as a thousand degrees for our body temperature, maybe spelling mistakes, and others. "
   ]
  },
  {
   "cell_type": "code",
   "execution_count": 6,
   "metadata": {},
   "outputs": [],
   "source": [
    "# import library\n",
    "import pandas as pd"
   ]
  },
  {
   "cell_type": "markdown",
   "metadata": {},
   "source": [
    "Let's have a look at some metrics data. Here we have a CSV with time, name of the metric, and a value. Let's load it up. So we start by importing pandas as pd, and I'm going to hide the bar on the left side. And now, I'm going to read a CSV and parse the time column as date. And I'm going to sample 10 random rows. And we see some memory, some cpus, and some values."
   ]
  },
  {
   "cell_type": "code",
   "execution_count": 7,
   "metadata": {},
   "outputs": [
    {
     "data": {
      "text/html": [
       "<div>\n",
       "<style scoped>\n",
       "    .dataframe tbody tr th:only-of-type {\n",
       "        vertical-align: middle;\n",
       "    }\n",
       "\n",
       "    .dataframe tbody tr th {\n",
       "        vertical-align: top;\n",
       "    }\n",
       "\n",
       "    .dataframe thead th {\n",
       "        text-align: right;\n",
       "    }\n",
       "</style>\n",
       "<table border=\"1\" class=\"dataframe\">\n",
       "  <thead>\n",
       "    <tr style=\"text-align: right;\">\n",
       "      <th></th>\n",
       "      <th>time</th>\n",
       "      <th>name</th>\n",
       "      <th>value</th>\n",
       "    </tr>\n",
       "  </thead>\n",
       "  <tbody>\n",
       "    <tr>\n",
       "      <th>1</th>\n",
       "      <td>2021-07-13 14:36:52.380</td>\n",
       "      <td>cpu</td>\n",
       "      <td>3.157000e+01</td>\n",
       "    </tr>\n",
       "    <tr>\n",
       "      <th>94</th>\n",
       "      <td>2021-07-13 14:37:37.359</td>\n",
       "      <td>cpu</td>\n",
       "      <td>3.733000e+01</td>\n",
       "    </tr>\n",
       "    <tr>\n",
       "      <th>67</th>\n",
       "      <td>2021-07-13 14:37:23.961</td>\n",
       "      <td>mem</td>\n",
       "      <td>2.275173e+08</td>\n",
       "    </tr>\n",
       "    <tr>\n",
       "      <th>18</th>\n",
       "      <td>2021-07-13 14:37:00.993</td>\n",
       "      <td>cpu</td>\n",
       "      <td>3.123000e+01</td>\n",
       "    </tr>\n",
       "    <tr>\n",
       "      <th>35</th>\n",
       "      <td>2021-07-13 14:37:08.649</td>\n",
       "      <td>mem</td>\n",
       "      <td>2.275387e+08</td>\n",
       "    </tr>\n",
       "    <tr>\n",
       "      <th>13</th>\n",
       "      <td>2021-07-13 14:36:58.122</td>\n",
       "      <td>cpu</td>\n",
       "      <td>3.233000e+01</td>\n",
       "    </tr>\n",
       "    <tr>\n",
       "      <th>44</th>\n",
       "      <td>2021-07-13 14:37:13.434</td>\n",
       "      <td>mem</td>\n",
       "      <td>2.275479e+08</td>\n",
       "    </tr>\n",
       "    <tr>\n",
       "      <th>42</th>\n",
       "      <td>2021-07-13 14:37:12.477</td>\n",
       "      <td>mem</td>\n",
       "      <td>2.275487e+08</td>\n",
       "    </tr>\n",
       "    <tr>\n",
       "      <th>54</th>\n",
       "      <td>2021-07-13 14:37:18.219</td>\n",
       "      <td>cpu</td>\n",
       "      <td>3.137000e+01</td>\n",
       "    </tr>\n",
       "    <tr>\n",
       "      <th>21</th>\n",
       "      <td>2021-07-13 14:37:01.950</td>\n",
       "      <td>mem</td>\n",
       "      <td>2.275199e+08</td>\n",
       "    </tr>\n",
       "  </tbody>\n",
       "</table>\n",
       "</div>"
      ],
      "text/plain": [
       "                      time name         value\n",
       "1  2021-07-13 14:36:52.380  cpu  3.157000e+01\n",
       "94 2021-07-13 14:37:37.359  cpu  3.733000e+01\n",
       "67 2021-07-13 14:37:23.961  mem  2.275173e+08\n",
       "18 2021-07-13 14:37:00.993  cpu  3.123000e+01\n",
       "35 2021-07-13 14:37:08.649  mem  2.275387e+08\n",
       "13 2021-07-13 14:36:58.122  cpu  3.233000e+01\n",
       "44 2021-07-13 14:37:13.434  mem  2.275479e+08\n",
       "42 2021-07-13 14:37:12.477  mem  2.275487e+08\n",
       "54 2021-07-13 14:37:18.219  cpu  3.137000e+01\n",
       "21 2021-07-13 14:37:01.950  mem  2.275199e+08"
      ]
     },
     "execution_count": 7,
     "metadata": {},
     "output_type": "execute_result"
    }
   ],
   "source": [
    "# dataset\n",
    "df=pd.read_csv('metrics.csv', parse_dates=['time'])\n",
    "df.sample(10)"
   ]
  },
  {
   "cell_type": "markdown",
   "metadata": {},
   "source": [
    "Let's use groupby to have a look at statistics per metric. So let's run the cell, groupby name and describe. And we see that the CPU has one count with the mean, and we see that minus 32.14 is probably an error for a metric value, either CPU or memory. "
   ]
  },
  {
   "cell_type": "code",
   "execution_count": 9,
   "metadata": {},
   "outputs": [
    {
     "data": {
      "text/html": [
       "<div>\n",
       "<style scoped>\n",
       "    .dataframe tbody tr th:only-of-type {\n",
       "        vertical-align: middle;\n",
       "    }\n",
       "\n",
       "    .dataframe tbody tr th {\n",
       "        vertical-align: top;\n",
       "    }\n",
       "\n",
       "    .dataframe thead tr th {\n",
       "        text-align: left;\n",
       "    }\n",
       "\n",
       "    .dataframe thead tr:last-of-type th {\n",
       "        text-align: right;\n",
       "    }\n",
       "</style>\n",
       "<table border=\"1\" class=\"dataframe\">\n",
       "  <thead>\n",
       "    <tr>\n",
       "      <th></th>\n",
       "      <th colspan=\"8\" halign=\"left\">time</th>\n",
       "      <th colspan=\"8\" halign=\"left\">value</th>\n",
       "    </tr>\n",
       "    <tr>\n",
       "      <th></th>\n",
       "      <th>count</th>\n",
       "      <th>mean</th>\n",
       "      <th>min</th>\n",
       "      <th>25%</th>\n",
       "      <th>50%</th>\n",
       "      <th>75%</th>\n",
       "      <th>max</th>\n",
       "      <th>std</th>\n",
       "      <th>count</th>\n",
       "      <th>mean</th>\n",
       "      <th>min</th>\n",
       "      <th>25%</th>\n",
       "      <th>50%</th>\n",
       "      <th>75%</th>\n",
       "      <th>max</th>\n",
       "      <th>std</th>\n",
       "    </tr>\n",
       "    <tr>\n",
       "      <th>name</th>\n",
       "      <th></th>\n",
       "      <th></th>\n",
       "      <th></th>\n",
       "      <th></th>\n",
       "      <th></th>\n",
       "      <th></th>\n",
       "      <th></th>\n",
       "      <th></th>\n",
       "      <th></th>\n",
       "      <th></th>\n",
       "      <th></th>\n",
       "      <th></th>\n",
       "      <th></th>\n",
       "      <th></th>\n",
       "      <th></th>\n",
       "      <th></th>\n",
       "    </tr>\n",
       "  </thead>\n",
       "  <tbody>\n",
       "    <tr>\n",
       "      <th>CPU</th>\n",
       "      <td>1</td>\n",
       "      <td>2021-07-13 14:36:59.079000064</td>\n",
       "      <td>2021-07-13 14:36:59.079000</td>\n",
       "      <td>2021-07-13 14:36:59.079000064</td>\n",
       "      <td>2021-07-13 14:36:59.079000064</td>\n",
       "      <td>2021-07-13 14:36:59.079000064</td>\n",
       "      <td>2021-07-13 14:36:59.079000</td>\n",
       "      <td>NaN</td>\n",
       "      <td>1.0</td>\n",
       "      <td>3.040000e+01</td>\n",
       "      <td>30.40</td>\n",
       "      <td>3.040000e+01</td>\n",
       "      <td>3.040000e+01</td>\n",
       "      <td>3.040000e+01</td>\n",
       "      <td>30.4</td>\n",
       "      <td>NaN</td>\n",
       "    </tr>\n",
       "    <tr>\n",
       "      <th>cpu</th>\n",
       "      <td>49</td>\n",
       "      <td>2021-07-13 14:37:16.168285696</td>\n",
       "      <td>2021-07-13 14:36:52.380000</td>\n",
       "      <td>2021-07-13 14:37:04.820999936</td>\n",
       "      <td>2021-07-13 14:37:16.304999936</td>\n",
       "      <td>2021-07-13 14:37:27.788999936</td>\n",
       "      <td>2021-07-13 14:37:39.273000</td>\n",
       "      <td>NaN</td>\n",
       "      <td>49.0</td>\n",
       "      <td>3.645633e+01</td>\n",
       "      <td>-32.14</td>\n",
       "      <td>2.956000e+01</td>\n",
       "      <td>3.157000e+01</td>\n",
       "      <td>3.507000e+01</td>\n",
       "      <td>300.9</td>\n",
       "      <td>3.977927e+01</td>\n",
       "    </tr>\n",
       "    <tr>\n",
       "      <th>mem</th>\n",
       "      <td>50</td>\n",
       "      <td>2021-07-13 14:37:15.826500096</td>\n",
       "      <td>2021-07-13 14:36:52.380000</td>\n",
       "      <td>2021-07-13 14:37:04.103249920</td>\n",
       "      <td>2021-07-13 14:37:15.826499840</td>\n",
       "      <td>2021-07-13 14:37:27.549750016</td>\n",
       "      <td>2021-07-13 14:37:39.273000</td>\n",
       "      <td>NaN</td>\n",
       "      <td>50.0</td>\n",
       "      <td>2.229711e+08</td>\n",
       "      <td>295.00</td>\n",
       "      <td>2.275070e+08</td>\n",
       "      <td>2.275188e+08</td>\n",
       "      <td>2.275342e+08</td>\n",
       "      <td>227556054.0</td>\n",
       "      <td>3.217637e+07</td>\n",
       "    </tr>\n",
       "  </tbody>\n",
       "</table>\n",
       "</div>"
      ],
      "text/plain": [
       "      time                                                             \\\n",
       "     count                           mean                         min   \n",
       "name                                                                    \n",
       "CPU      1  2021-07-13 14:36:59.079000064  2021-07-13 14:36:59.079000   \n",
       "cpu     49  2021-07-13 14:37:16.168285696  2021-07-13 14:36:52.380000   \n",
       "mem     50  2021-07-13 14:37:15.826500096  2021-07-13 14:36:52.380000   \n",
       "\n",
       "                                                                    \\\n",
       "                                25%                            50%   \n",
       "name                                                                 \n",
       "CPU   2021-07-13 14:36:59.079000064  2021-07-13 14:36:59.079000064   \n",
       "cpu   2021-07-13 14:37:04.820999936  2021-07-13 14:37:16.304999936   \n",
       "mem   2021-07-13 14:37:04.103249920  2021-07-13 14:37:15.826499840   \n",
       "\n",
       "                                                                     value  \\\n",
       "                                75%                         max  std count   \n",
       "name                                                                         \n",
       "CPU   2021-07-13 14:36:59.079000064  2021-07-13 14:36:59.079000  NaN   1.0   \n",
       "cpu   2021-07-13 14:37:27.788999936  2021-07-13 14:37:39.273000  NaN  49.0   \n",
       "mem   2021-07-13 14:37:27.549750016  2021-07-13 14:37:39.273000  NaN  50.0   \n",
       "\n",
       "                                                                      \\\n",
       "              mean     min           25%           50%           75%   \n",
       "name                                                                   \n",
       "CPU   3.040000e+01   30.40  3.040000e+01  3.040000e+01  3.040000e+01   \n",
       "cpu   3.645633e+01  -32.14  2.956000e+01  3.157000e+01  3.507000e+01   \n",
       "mem   2.229711e+08  295.00  2.275070e+08  2.275188e+08  2.275342e+08   \n",
       "\n",
       "                                 \n",
       "              max           std  \n",
       "name                             \n",
       "CPU          30.4           NaN  \n",
       "cpu         300.9  3.977927e+01  \n",
       "mem   227556054.0  3.217637e+07  "
      ]
     },
     "execution_count": 9,
     "metadata": {},
     "output_type": "execute_result"
    }
   ],
   "source": [
    "# summary statistics by name\n",
    "df.groupby('name').describe()"
   ]
  },
  {
   "cell_type": "markdown",
   "metadata": {},
   "source": [
    "The value count method is a great way to find problems in categorical data such as the name. So let's run df name, values count. And we say we have 50 of memory, but 49 of cpu with a lowercase, and a single CPU with the uppercase. "
   ]
  },
  {
   "cell_type": "code",
   "execution_count": null,
   "metadata": {},
   "outputs": [
    {
     "data": {
      "text/plain": [
       "name\n",
       "mem    50\n",
       "cpu    49\n",
       "CPU     1\n",
       "Name: count, dtype: int64"
      ]
     },
     "execution_count": 10,
     "metadata": {},
     "output_type": "execute_result"
    }
   ],
   "source": [
    "# value counts checks categorical variables\n",
    "df['name'].value_counts()\n",
    "\n",
    "# here, CPU name is incorrect"
   ]
  },
  {
   "cell_type": "markdown",
   "metadata": {},
   "source": [
    "Some people find it easier to spot bad values on a chart. I'm going to pivot the DataFrame where the index is the time, the columns are going to be the name, and I'm going to plot with subplots equal True. And here we see the CPU with uppercase, cpu with lowercase, values, and the memory. And we see that the cpu is going below the zero, which is a problem. "
   ]
  },
  {
   "cell_type": "code",
   "execution_count": null,
   "metadata": {},
   "outputs": [
    {
     "data": {
      "text/plain": [
       "array([<Axes: xlabel='time'>, <Axes: xlabel='time'>,\n",
       "       <Axes: xlabel='time'>], dtype=object)"
      ]
     },
     "execution_count": 11,
     "metadata": {},
     "output_type": "execute_result"
    },
    {
     "data": {
      "image/png": "[encoded data removed]",
      "text/plain": [
       "<Figure size 640x480 with 3 Axes>"
      ]
     },
     "metadata": {},
     "output_type": "display_data"
    }
   ],
   "source": [
    "# Let's plot the CPU column using pivot DataFrame to see if we can spot any bad values.\n",
    "pd.pivot(df, index='time', columns='name').plot(subplots=True)"
   ]
  },
  {
   "cell_type": "markdown",
   "metadata": {},
   "source": [
    "`If you know the range of valid values in your data, you can find out values that are outside of this range. `"
   ]
  },
  {
   "cell_type": "markdown",
   "metadata": {},
   "source": [
    "Let's take a look at cpu, which is the load in percent. It should be between zero and hundred. So I'm going to run DataFrame query where the name is cpu and the value is either less than zero or bigger than a hundred. If you're going to run it, we are going to find two rows that are problematic. "
   ]
  },
  {
   "cell_type": "code",
   "execution_count": 14,
   "metadata": {},
   "outputs": [
    {
     "data": {
      "text/html": [
       "<div>\n",
       "<style scoped>\n",
       "    .dataframe tbody tr th:only-of-type {\n",
       "        vertical-align: middle;\n",
       "    }\n",
       "\n",
       "    .dataframe tbody tr th {\n",
       "        vertical-align: top;\n",
       "    }\n",
       "\n",
       "    .dataframe thead th {\n",
       "        text-align: right;\n",
       "    }\n",
       "</style>\n",
       "<table border=\"1\" class=\"dataframe\">\n",
       "  <thead>\n",
       "    <tr style=\"text-align: right;\">\n",
       "      <th></th>\n",
       "      <th>time</th>\n",
       "      <th>name</th>\n",
       "      <th>value</th>\n",
       "    </tr>\n",
       "  </thead>\n",
       "  <tbody>\n",
       "    <tr>\n",
       "      <th>3</th>\n",
       "      <td>2021-07-13 14:36:53.337</td>\n",
       "      <td>cpu</td>\n",
       "      <td>300.90</td>\n",
       "    </tr>\n",
       "    <tr>\n",
       "      <th>9</th>\n",
       "      <td>2021-07-13 14:36:56.208</td>\n",
       "      <td>cpu</td>\n",
       "      <td>-32.14</td>\n",
       "    </tr>\n",
       "  </tbody>\n",
       "</table>\n",
       "</div>"
      ],
      "text/plain": [
       "                     time name   value\n",
       "3 2021-07-13 14:36:53.337  cpu  300.90\n",
       "9 2021-07-13 14:36:56.208  cpu  -32.14"
      ]
     },
     "execution_count": 14,
     "metadata": {},
     "output_type": "execute_result"
    }
   ],
   "source": [
    "df.query('name == \"cpu\" & (value < 0 | value > 100)' )\t"
   ]
  },
  {
   "cell_type": "markdown",
   "metadata": {},
   "source": [
    "***Sometimes you're going to use more complex methods to find bad data. The standard score is a distance of a data point from the mean in units of standard deviation. It's a good way to find outliers in data that is normally distributed. You should know your data distribution characteristics.***"
   ]
  },
  {
   "cell_type": "markdown",
   "metadata": {},
   "source": [
    "So let's have a look. We are going to get only the memory and calculate the z score, which is the distance from the mean, and get the bad values. To find the rows, we are going to use the DataFrame .loc with the index of the bad memory. And we found the one row with some bad data. "
   ]
  },
  {
   "cell_type": "code",
   "execution_count": 15,
   "metadata": {},
   "outputs": [
    {
     "data": {
      "text/html": [
       "<div>\n",
       "<style scoped>\n",
       "    .dataframe tbody tr th:only-of-type {\n",
       "        vertical-align: middle;\n",
       "    }\n",
       "\n",
       "    .dataframe tbody tr th {\n",
       "        vertical-align: top;\n",
       "    }\n",
       "\n",
       "    .dataframe thead th {\n",
       "        text-align: right;\n",
       "    }\n",
       "</style>\n",
       "<table border=\"1\" class=\"dataframe\">\n",
       "  <thead>\n",
       "    <tr style=\"text-align: right;\">\n",
       "      <th></th>\n",
       "      <th>time</th>\n",
       "      <th>name</th>\n",
       "      <th>value</th>\n",
       "    </tr>\n",
       "  </thead>\n",
       "  <tbody>\n",
       "    <tr>\n",
       "      <th>6</th>\n",
       "      <td>2021-07-13 14:36:55.251</td>\n",
       "      <td>mem</td>\n",
       "      <td>295.0</td>\n",
       "    </tr>\n",
       "  </tbody>\n",
       "</table>\n",
       "</div>"
      ],
      "text/plain": [
       "                     time name  value\n",
       "6 2021-07-13 14:36:55.251  mem  295.0"
      ]
     },
     "execution_count": 15,
     "metadata": {},
     "output_type": "execute_result"
    }
   ],
   "source": [
    "mem = df[df['name'] == 'mem']['value']\n",
    "z_score = (mem - mem.mean()) / mem.std()\n",
    "bad_mem = mem [z_score.abs() > 2]\n",
    "\n",
    "# bad_mem is the list of values that are more than 2 standard deviations away from the mean\n",
    "df.loc[bad_mem.index]"
   ]
  },
  {
   "cell_type": "markdown",
   "metadata": {},
   "source": [
    "There are even more sophisticated ways of detecting bad data. See **scikit-learn** section about ``Novelty`` and ``Outlier Detection`` if you want to go deeper."
   ]
  },
  {
   "cell_type": "markdown",
   "metadata": {},
   "source": [
    "**1.3. Duplicate values**"
   ]
  },
  {
   "cell_type": "markdown",
   "metadata": {},
   "source": [
    "Duplicate data will make your calculations go wrong. Even worse, if you process the same transaction twice, you're going to lose a customer."
   ]
  },
  {
   "cell_type": "markdown",
   "metadata": {},
   "source": []
  },
  {
   "cell_type": "code",
   "execution_count": 16,
   "metadata": {},
   "outputs": [],
   "source": [
    "#library\n",
    "import pandas as pd"
   ]
  },
  {
   "cell_type": "markdown",
   "metadata": {},
   "source": [
    "Let's have a look at the shopping cart data. So we have date, name, amount, and price. Let's load it up. So we import pandas as pd. And now we're going to read the csv passing the date column as date. And you can see we have several columns like one and two, and four and five that looks the same."
   ]
  },
  {
   "cell_type": "code",
   "execution_count": 19,
   "metadata": {},
   "outputs": [
    {
     "data": {
      "text/html": [
       "<div>\n",
       "<style scoped>\n",
       "    .dataframe tbody tr th:only-of-type {\n",
       "        vertical-align: middle;\n",
       "    }\n",
       "\n",
       "    .dataframe tbody tr th {\n",
       "        vertical-align: top;\n",
       "    }\n",
       "\n",
       "    .dataframe thead th {\n",
       "        text-align: right;\n",
       "    }\n",
       "</style>\n",
       "<table border=\"1\" class=\"dataframe\">\n",
       "  <thead>\n",
       "    <tr style=\"text-align: right;\">\n",
       "      <th></th>\n",
       "      <th>date</th>\n",
       "      <th>name</th>\n",
       "      <th>amount</th>\n",
       "      <th>price</th>\n",
       "    </tr>\n",
       "  </thead>\n",
       "  <tbody>\n",
       "    <tr>\n",
       "      <th>0</th>\n",
       "      <td>2021-03-01</td>\n",
       "      <td>carrot</td>\n",
       "      <td>7</td>\n",
       "      <td>5.73</td>\n",
       "    </tr>\n",
       "    <tr>\n",
       "      <th>1</th>\n",
       "      <td>2021-03-01</td>\n",
       "      <td>egg</td>\n",
       "      <td>12</td>\n",
       "      <td>1.70</td>\n",
       "    </tr>\n",
       "    <tr>\n",
       "      <th>2</th>\n",
       "      <td>2021-03-01</td>\n",
       "      <td>egg</td>\n",
       "      <td>12</td>\n",
       "      <td>1.20</td>\n",
       "    </tr>\n",
       "    <tr>\n",
       "      <th>3</th>\n",
       "      <td>2021-03-01</td>\n",
       "      <td>milk</td>\n",
       "      <td>1</td>\n",
       "      <td>3.57</td>\n",
       "    </tr>\n",
       "    <tr>\n",
       "      <th>4</th>\n",
       "      <td>2021-03-02</td>\n",
       "      <td>potato</td>\n",
       "      <td>3</td>\n",
       "      <td>2.17</td>\n",
       "    </tr>\n",
       "    <tr>\n",
       "      <th>5</th>\n",
       "      <td>2021-03-02</td>\n",
       "      <td>potato</td>\n",
       "      <td>3</td>\n",
       "      <td>2.17</td>\n",
       "    </tr>\n",
       "  </tbody>\n",
       "</table>\n",
       "</div>"
      ],
      "text/plain": [
       "        date    name  amount  price\n",
       "0 2021-03-01  carrot       7   5.73\n",
       "1 2021-03-01     egg      12   1.70\n",
       "2 2021-03-01     egg      12   1.20\n",
       "3 2021-03-01    milk       1   3.57\n",
       "4 2021-03-02  potato       3   2.17\n",
       "5 2021-03-02  potato       3   2.17"
      ]
     },
     "execution_count": 19,
     "metadata": {},
     "output_type": "execute_result"
    }
   ],
   "source": [
    "# dataset\n",
    "# dataset\n",
    "df=pd.read_csv('cart2.csv', parse_dates=['date'])\n",
    "df"
   ]
  },
  {
   "cell_type": "markdown",
   "metadata": {},
   "source": [
    "Pandas come with a duplicated method. Let's run it. And you see it's going to catch only the last two. So five is a duplicate of four. If you look closely, you see that in rows one and two, the price is different, 1.70 and 1.20."
   ]
  },
  {
   "cell_type": "code",
   "execution_count": 20,
   "metadata": {},
   "outputs": [
    {
     "data": {
      "text/plain": [
       "0    False\n",
       "1    False\n",
       "2    False\n",
       "3    False\n",
       "4    False\n",
       "5     True\n",
       "dtype: bool"
      ]
     },
     "execution_count": 20,
     "metadata": {},
     "output_type": "execute_result"
    }
   ],
   "source": [
    "# find duplicates\n",
    "df.duplicated()"
   ]
  },
  {
   "cell_type": "markdown",
   "metadata": {},
   "source": [
    "By default, ***duplicated will consider values from all columns***, but you can tell it to look for a subset of columns. In database terms, we call this the key. So let's run again duplicated, this time looking only at the date and the name column. And now we've found that line two is also a duplicate of line one."
   ]
  },
  {
   "cell_type": "code",
   "execution_count": 21,
   "metadata": {},
   "outputs": [
    {
     "data": {
      "text/plain": [
       "0    False\n",
       "1    False\n",
       "2     True\n",
       "3    False\n",
       "4    False\n",
       "5     True\n",
       "dtype: bool"
      ]
     },
     "execution_count": 21,
     "metadata": {},
     "output_type": "execute_result"
    }
   ],
   "source": [
    "df.duplicated(['date', 'name'])"
   ]
  }
 ],
 "metadata": {
  "kernelspec": {
   "display_name": "Python 3",
   "language": "python",
   "name": "python3"
  },
  "language_info": {
   "codemirror_mode": {
    "name": "ipython",
    "version": 3
   },
   "file_extension": ".py",
   "mimetype": "text/x-python",
   "name": "python",
   "nbconvert_exporter": "python",
   "pygments_lexer": "ipython3",
   "version": "3.13.2"
  }
 },
 "nbformat": 4,
 "nbformat_minor": 2
}
